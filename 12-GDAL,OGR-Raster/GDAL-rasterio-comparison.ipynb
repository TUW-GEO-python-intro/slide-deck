{
 "cells": [
  {
   "cell_type": "markdown",
   "metadata": {
    "collapsed": true,
    "tags": [
     "worksheet-0"
    ]
   },
   "source": [
    "# Reading a raster file and print statistics"
   ]
  },
  {
   "cell_type": "markdown",
   "metadata": {
    "collapsed": true,
    "tags": [
     "worksheet-0"
    ]
   },
   "source": [
    "## GDAL\n",
    "\n",
    "- first we will do something in GDAL and then in rasterio to see the differences"
   ]
  },
  {
   "cell_type": "code",
   "execution_count": 2,
   "metadata": {
    "collapsed": false,
    "tags": [
     "worksheet-0"
    ]
   },
   "outputs": [],
   "source": [
    "import matplotlib.pyplot as plt\n",
    "%matplotlib inline\n",
    "from osgeo import gdal, osr\n",
    "import sys\n",
    "import struct\n",
    "import numpy\n",
    "import os"
   ]
  },
  {
   "cell_type": "code",
   "execution_count": 5,
   "metadata": {
    "collapsed": false,
    "tags": [
     "worksheet-0"
    ]
   },
   "outputs": [
    {
     "name": "stdout",
     "output_type": "stream",
     "text": [
      "Driver:  GTiff / GeoTIFF\n",
      "Size is  451 x 351 x 1\n",
      "Projection is  LOCAL_CS[\"X-Y-Z\",UNIT[\"metre\",1,AUTHORITY[\"EPSG\",\"9001\"]]]\n",
      "Origin = ( 527799.5 , 5340350.5 )\n",
      "Pixel Size = ( 1.0 , -1.0 )\n",
      "Raster parallel to coordinate axis.\n"
     ]
    }
   ],
   "source": [
    "dataset = gdal.Open(os.path.join(\"dsm.tif\"), gdal.GA_ReadOnly)\n",
    "if dataset is None:\n",
    "    print(\"Open failed.\\n\")\n",
    "    sys.exit(1)\n",
    "\n",
    "#\n",
    "# Query and print dataset Information\n",
    "#\n",
    "\n",
    "# Dataset driver\n",
    "print('Driver: ', dataset.GetDriver().ShortName, '/',\n",
    "      dataset.GetDriver().LongName)\n",
    "\n",
    "# Raster size (rows/columns/nr of bands)\n",
    "print('Size is ', dataset.RasterXSize, 'x', dataset.RasterYSize,\n",
    "      'x', dataset.RasterCount)\n",
    "\n",
    "# Georeference\n",
    "print('Projection is ', dataset.GetProjection())\n",
    "\n",
    "# Raster location / Pixel size / raster orientation\n",
    "geotransform = dataset.GetGeoTransform()\n",
    "if not geotransform is None:\n",
    "    print('Origin = (', geotransform[0], ',', geotransform[3], ')')\n",
    "    print('Pixel Size = (', geotransform[1], ',', geotransform[5], ')')\n",
    "    if geotransform[2] != 0. or geotransform[4] != 0.:\n",
    "        print(\"Oblique raster orientation.\")\n",
    "    else:\n",
    "        print(\"Raster parallel to coordinate axis.\")"
   ]
  },
  {
   "cell_type": "markdown",
   "metadata": {
    "collapsed": true,
    "tags": [
     "worksheet-0"
    ]
   },
   "source": [
    "- Fetching a raster band\n",
    "- note that the first band is adressed with index 1!!"
   ]
  },
  {
   "cell_type": "code",
   "execution_count": 6,
   "metadata": {
    "collapsed": false,
    "tags": [
     "worksheet-0"
    ]
   },
   "outputs": [
    {
     "name": "stdout",
     "output_type": "stream",
     "text": [
      "Band Type= Float32\n",
      "Min=258.803, Max=293.878\n",
      "Value indicating data voids: 9999.0\n"
     ]
    }
   ],
   "source": [
    "band = dataset.GetRasterBand(1)\n",
    "\n",
    "print('Band Type=', gdal.GetDataTypeName(band.DataType))\n",
    "\n",
    "minVal = band.GetMinimum()\n",
    "maxVal = band.GetMaximum()\n",
    "if minVal is None or maxVal is None:\n",
    "    minVal, maxVal = band.ComputeRasterMinMax(1)\n",
    "print('Min=%.3f, Max=%.3f' % (minVal, maxVal))\n",
    "\n",
    "if band.GetOverviewCount() > 0:\n",
    "    print('Band has ', band.GetOverviewCount(), ' overviews.')\n",
    "\n",
    "if not band.GetRasterColorTable() is None:\n",
    "    print('Band has a color table with ', \n",
    "        band.GetRasterColorTable().GetCount(), ' entries.')\n",
    "\n",
    "nodata = band.GetNoDataValue()\n",
    "print(\"Value indicating data voids:\", nodata)"
   ]
  },
  {
   "cell_type": "markdown",
   "metadata": {
    "collapsed": true,
    "tags": [
     "worksheet-0"
    ]
   },
   "source": [
    "Reading raster data in GDAL can be done several ways. We will use two:\n",
    "\n",
    "- ReadRaster method, sometimes seen in older code, just so you know what it does\n",
    "- ReadAsArray method, reads directly into numpy array"
   ]
  },
  {
   "cell_type": "code",
   "execution_count": 7,
   "metadata": {
    "collapsed": false,
    "tags": [
     "worksheet-0"
    ]
   },
   "outputs": [
    {
     "name": "stdout",
     "output_type": "stream",
     "text": [
      "ReadRaster returned:  b\"\\x17\\x85\\x83C\\xd3\\x83\\x83Cd\\x84\\x83C#\\x85\\x83C\\x03\\x85\\x83C\\xc0\\x85\\x83C6\\x85\\x83C3\\x88\\x83Cn\\x87\\x83C\\xb1\\x88\\x83C\\xa5\\x86\\x83C\\xbe\\x84\\x83C`\\x82\\x83C\\x10\\x80\\x83C\\xee}\\x83C\\x85|\\x83C/}\\x83C\\xb6}\\x83C\\xda|\\x83C4}\\x83C\\xa3z\\x83C\\x97x\\x83C'x\\x83C\\xc6u\\x83C\\xc6v\\x83CXx\\x83C\\x94x\\x83C\\xb0x\\x83Ctw\\x83C\\x92w\\x83C1w\\x83C\\xa0w\\x83C\\\\x\\x83C y\\x83Csy\\x83C\\xd7y\\x83C\\x88w\\x83C\\xb9y\\x83C\\xa5|\\x83C\\x81\\x80\\x83C\\xe0\\x85\\x83C\\x7f\\x89\\x83C\\xdf\\x8c\\x83C\\x1a\\x91\\x83C\\x99\\x91\\x83C]\\x91\\x83C\\xb8\\x90\\x83C\\xd5\\x8e\\x83C\\x81\\x8f\\x83C\\xa1\\x8e\\x83Cm\\x8e\\x83C:\\x90\\x83C\\xc6\\x8e\\x83C\\xde\\x8d\\x83C\\xf4\\x8a\\x83C\\xd4\\x89\\x83C\\xee\\x86\\x83Co\\x85\\x83C\\x1bv\\x83C^z\\x83CR\\x8c\\x83CZ\\xd7\\x83C\\xe8;\\x83C\\xce\\xf4\\x82C\\x02\\xc7\\x82C\\x10\\xad\\x82C<\\x8f\\x82C\\x06\\x80\\x82CTm\\x82C\\xf6f\\x82C\\xae`\\x82CT]\\x82C\\x9fW\\x82C\\x85H\\x82C\\xde7\\x82C^/\\x82C\\x00<\\x1cF\\x00<\\x1cF\\x00<\\x1cF\\x00<\\x1cF\\x00<\\x1cF\\x00<\\x1cF\\x00<\\x1cF\\x00<\\x1cF\\x00<\\x1cF\\x00<\\x1cF\\x00<\\x1cF\\x00<\\x1cF\\x00<\\x1cF\\x00<\\x1cF\\x00<\\x1cF\\x00<\\x1cF\\x00<\\x1cF\\x00<\\x1cF\\x00<\\x1cF\\x00<\\x1cF\\x00<\\x1cF\\x00<\\x1cF\\x00<\\x1cF\\x00<\\x1cF\\x00<\\x1cF\\x00<\\x1cF\\x00<\\x1cF\\x00<\\x1cF\\x00<\\x1cF\\x00<\\x1cF\\x00<\\x1cF\\x00<\\x1cF\\x00<\\x1cF\\x00<\\x1cF\\x00<\\x1cF\\x00<\\x1cF\\x00<\\x1cF\\x00<\\x1cF\\x00<\\x1cF\\x00<\\x1cF\\x00<\\x1cF\\x00<\\x1cF\\x00<\\x1cF\\x00<\\x1cF\\x00<\\x1cF\\x00<\\x1cF\\x00<\\x1cF\\x00<\\x1cF\\x00<\\x1cF\\x00<\\x1cF\\x00<\\x1cF\\x00<\\x1cF\\x00<\\x1cF\\x00<\\x1cF\\x00<\\x1cF\\x00<\\x1cF\\x00<\\x1cF\\xf3z\\x81C\\xe2\\xc2\\x81C\\x8b\\x1e\\x82C\\xeel\\x82C\\xfa\\x8e\\x82C\\x1e\\x98\\x82C\\xf1\\x9b\\x82C\\xc5\\xb4\\x82C\\x18\\xf5\\x82C\\x9d6\\x83CR\\x0f\\x84CQP\\x86C\\xef\\x01\\x87C\\x9a\\x08\\x88Cq\\x9f\\x88C\\xca\\x13\\x87Cm*\\x86C\\xa9\\xb9\\x83C\\x98\\xc4\\x83CBa\\x85C\\x97d\\x85C\\x16.\\x86Cc\\xd7\\x86C\\x1c'\\x86Cq\\x0b\\x84C{\\x08\\x83C\\xf0\\xac\\x82C\\xfa\\x93\\x82C\\xa0\\x80\\x82Cs\\x81\\x82C1|\\x82C\\x06\\x7f\\x82C\\x94\\x84\\x82C\\xbdr\\x82C\\xc7u\\x82CAh\\x82CSL\\x82COM\\x82CoS\\x82C\\xe0N\\x82CvO\\x82C\\x14O\\x82C+N\\x82C\\x00<\\x1cF\\x00<\\x1cF\\x00<\\x1cF\\x00<\\x1cF\\x00<\\x1cF\\x00<\\x1cF\\x00<\\x1cF\\x00<\\x1cF\\x00<\\x1cF\\x00<\\x1cF\\x00<\\x1cF\\x00<\\x1cF\\x00<\\x1cF\\x00<\\x1cF\\x00<\\x1cF\\x00<\\x1cF\\x00<\\x1cF\\x00<\\x1cF\\x00<\\x1cF\\x00<\\x1cF\\x00<\\x1cF\\x00<\\x1cF\\x00<\\x1cF\\x00<\\x1cF\\x00<\\x1cF\\x00<\\x1cF\\x00<\\x1cF\\x00<\\x1cF\\x00<\\x1cF\\x00<\\x1cF\\x00<\\x1cF\\x00<\\x1cF\\x00<\\x1cF\\x00<\\x1cF\\x00<\\x1cF\\x00<\\x1cF\\x00<\\x1cF\\x00<\\x1cF\\x00<\\x1cF\\x00<\\x1cF\\x00<\\x1cF\\x00<\\x1cF\\x00<\\x1cF\\x00<\\x1cF\\x00<\\x1cF\\x00<\\x1cF\\x00<\\x1cF\\x00<\\x1cF\\x00<\\x1cF\\x00<\\x1cF\\x00<\\x1cF\\x00<\\x1cF\\x00<\\x1cF\\x00<\\x1cF\\x00<\\x1cF\\x00<\\x1cF\\x00<\\x1cF\\x00<\\x1cF\\x00<\\x1cF\\x00<\\x1cF\\x00<\\x1cF\\x00<\\x1cF\\x00<\\x1cF\\x00<\\x1cF\\x00<\\x1cF\\x00<\\x1cF\\x00<\\x1cFF\\x01\\x82C\\xe0O\\x82Cw~\\x82C\\x0e\\xb4\\x82C\\xa2\\xd0\\x82C\\x05\\xdc\\x82C\\xe2\\xe6\\x82Cg\\xf0\\x82CO\\xf0\\x82C2\\xe6\\x85C\\x82\\xc6\\x86C&M\\x88Cm\\x7f\\x88C\\x1bQ\\x88Clm\\x88C\\xd4q\\x88C:}\\x88Cec\\x88C\\xf1\\xa6\\x88C\\xad\\x18\\x88C\\x98\\x02\\x88C\\xd8\\xeb\\x87CT\\x16\\x88C\\x85w\\x88C\\x94\\xaf\\x88C\\xd79\\x88C\\xe8\\x9f\\x87C\\xc8\\xf1\\x86C\\xdd\\xb6\\x86C\\x17\\xdc\\x84Ci\\x18\\x84C\\xc4\\x10\\x84C.\\x0f\\x84C\\x98\\t\\x84C:\\x06\\x84C\\xb0\\x00\\x84CH\\xfa\\x83C\\xf9\\xf6\\x83CG\\xf1\\x83C\\xe4\\xed\\x83C@\\xe7\\x83C\\x08\\xe3\\x83C6\\xde\\x83C\\xeb\\xd8\\x83C\\x17\\xd1\\x83C\\xb6\\xd0\\x83C\\x00\\xca\\x83C;\\xc8\\x83C\\x10\\xc9\\x83C\\x10\\xcb\\x83C\\xed\\xca\\x83C\\xbd\\xcf\\x83C\\x98\\xd2\\x83C\\xf7\\xd4\\x83C\\x1e\\xd6\\x83C\\x0e\\xd8\\x83C\\xa7\\xd4\\x83C_\\xd6\\x83C\\\\\\xda\\x83Cg\\xdc\\x83C\\xfe\\xde\\x83C/\\xe2\\x83C{\\xe5\\x83C\\xc7\\xeb\\x83C\\xe8\\xfb\\x83C<\\x06\\x84C\\xca\\t\\x84C\\x8f\\x0c\\x84C\\x8d\\x0f\\x84C.\\x17\\x84C\\xafU\\x84C\\xa9\\x92\\x85C\\x1b\\x1b\\x86C`\\xb5\\x86C\\x1e\\x83\\x86C\\xf5\\x80\\x88CwQ\\x87C\\x01~\\x85CS\\xb7\\x84CS\\xf1\\x82C\\xf0\\xe6\\x82C\\xdd\\xe6\\x82C\\x0c\\xf2\\x82C~\\xc3\\x82C.\\xa9\\x82C\\xcb\\\\\\x82C\\xc5T\\x82C#V\\x82CmV\\x82C\\x94T\\x82C\\x15S\\x82C\\x16T\\x82C\\xdbT\\x82C\\xc4U\\x82CDU\\x82C7T\\x82C:V\\x82CjU\\x82C\\xaeU\\x82C\\xdeU\\x82C\\x99S\\x82CyS\\x82C\\xd8T\\x82C\\x8aU\\x82C\\x08W\\x82C\\xc4U\\x82C#T\\x82COT\\x82C\\xcaT\\x82C\\xb5W\\x82C\\xb4T\\x82C\\xbcR\\x82C\\x9eT\\x82C^U\\x82C:V\\x82C\\xb0T\\x82C\\xcfS\\x82C\\xaeT\\x82C\\xbdU\\x82C\\xa4U\\x82C!T\\x82C\\x7fS\\x82CyT\\x82C\\xb5T\\x82C\\xadV\\x82C\\xe5S\\x82C\\xfeS\\x82C\\x87U\\x82C\\xa0V\\x82CJV\\x82C\\xdeU\\x82C\\x01U\\x82C\\xacU\\x82CDW\\x82C\\x16U\\x82CaV\\x82CdV\\x82C\\xd5V\\x82C\\x1dV\\x82C*U\\x82CTU\\x82CoU\\x82CcW\\x82C\\xe5U\\x82C_V\\x82C\\x05V\\x82CYV\\x82C\\xb0V\\x82C\\xd6U\\x82C\\x8dV\\x82C\\xdeW\\x82C\\xb8W\\x82C\\xb0V\\x82CYU\\x82COV\\x82C\\xd1V\\x82C\\x01X\\x82CbV\\x82C\\x8cV\\x82C1V\\x82CsU\\x82C{T\\x82ClT\\x82C\\x12V\\x82C\\xe6U\\x82C\\xfcU\\x82C(V\\x82C\\xbdV\\x82C\\x1bX\\x82C\\x05V\\x82C\\x17U\\x82CVU\\x82CMU\\x82C\\x03U\\x82C\\xe9T\\x82CnT\\x82C\\xe1T\\x82CTU\\x82C\\x80U\\x82CBV\\x82C\\xa8T\\x82C\\xaeS\\x82C\\x95T\\x82C\\xd2T\\x82C%T\\x82CNU\\x82C\\xcdV\\x82C\\xa4T\\x82CnT\\x82C:T\\x82C\\x03T\\x82C\\xbdU\\x82C7T\\x82CnV\\x82C\\x89V\\x82C\\x10U\\x82C\\\\U\\x82C\\xf2V\\x82C\\xc3U\\x82C,W\\x82C\\xd4V\\x82C6V\\x82CPW\\x82C\\xc1V\\x82C\\xebX\\x82C\\xafS\\x82CRV\\x82C\\xf4T\\x82C\"\n",
      "Converted to floats: (263.0397644042969, 263.0298767089844, 263.0343017578125, 263.0401306152344, 263.0391540527344, 263.044921875, 263.04071044921875, 263.0640563964844, 263.05804443359375, 263.0679016113281, 263.0519104003906, 263.03704833984375, 263.0185546875, 263.00048828125, 262.98382568359375, 262.9728088378906, 262.9779968261719, 262.98211669921875, 262.97540283203125, 262.9781494140625, 262.9580993652344, 262.9421081542969, 262.9386901855469, 262.92010498046875, 262.92791748046875, 262.940185546875, 262.9420166015625, 262.94287109375, 262.9332275390625, 262.93414306640625, 262.9311828613281, 262.9345703125, 262.9403076171875, 262.9462890625, 262.9488220214844, 262.9518737792969, 262.933837890625, 262.9509582519531, 262.9737854003906, 263.0039367675781, 263.0458984375, 263.0741882324219, 263.1005554199219, 263.13360595703125, 263.1374816894531, 263.1356506347656, 263.130615234375, 263.1158752441406, 263.1211242675781, 263.1142883300781, 263.1127014160156, 263.12677001953125, 263.11541748046875, 263.10833740234375, 263.0855712890625, 263.0767822265625, 263.05413818359375, 263.0424499511719, 262.9226989746094, 262.95599365234375, 263.09625244140625, 263.68243408203125, 262.468017578125, 261.91253662109375, 261.55474853515625, 261.35205078125, 261.1190185546875, 261.00018310546875, 260.8541259765625, 260.80438232421875, 260.75531005859375, 260.7291259765625, 260.6845397949219, 260.5665588378906, 260.43646240234375, 260.37005615234375, 9999.0, 9999.0, 9999.0, 9999.0, 9999.0, 9999.0, 9999.0, 9999.0, 9999.0, 9999.0, 9999.0, 9999.0, 9999.0, 9999.0, 9999.0, 9999.0, 9999.0, 9999.0, 9999.0, 9999.0, 9999.0, 9999.0, 9999.0, 9999.0, 9999.0, 9999.0, 9999.0, 9999.0, 9999.0, 9999.0, 9999.0, 9999.0, 9999.0, 9999.0, 9999.0, 9999.0, 9999.0, 9999.0, 9999.0, 9999.0, 9999.0, 9999.0, 9999.0, 9999.0, 9999.0, 9999.0, 9999.0, 9999.0, 9999.0, 9999.0, 9999.0, 9999.0, 9999.0, 9999.0, 9999.0, 9999.0, 9999.0, 258.9605407714844, 259.52252197265625, 260.2386169433594, 260.85101318359375, 261.11700439453125, 261.18841552734375, 261.2182922363281, 261.4122619628906, 261.914794921875, 262.4266662597656, 264.11968994140625, 268.6274719238281, 270.0151062011719, 272.06719970703125, 273.2456359863281, 270.15460205078125, 268.3314514160156, 263.4504699707031, 263.535888671875, 266.75982666015625, 266.7858581542969, 268.36004638671875, 269.6827087402344, 268.3055419921875, 264.0893859863281, 262.0662536621094, 261.35107421875, 261.15606689453125, 261.0048828125, 261.0113220214844, 260.9702453613281, 260.99237060546875, 261.0357666015625, 260.8963928222656, 260.9201354980469, 260.8144836425781, 260.5962829589844, 260.6039733886719, 260.6518249511719, 260.6162109375, 260.62078857421875, 260.6177978515625, 260.6106872558594, 9999.0, 9999.0, 9999.0, 9999.0, 9999.0, 9999.0, 9999.0, 9999.0, 9999.0, 9999.0, 9999.0, 9999.0, 9999.0, 9999.0, 9999.0, 9999.0, 9999.0, 9999.0, 9999.0, 9999.0, 9999.0, 9999.0, 9999.0, 9999.0, 9999.0, 9999.0, 9999.0, 9999.0, 9999.0, 9999.0, 9999.0, 9999.0, 9999.0, 9999.0, 9999.0, 9999.0, 9999.0, 9999.0, 9999.0, 9999.0, 9999.0, 9999.0, 9999.0, 9999.0, 9999.0, 9999.0, 9999.0, 9999.0, 9999.0, 9999.0, 9999.0, 9999.0, 9999.0, 9999.0, 9999.0, 9999.0, 9999.0, 9999.0, 9999.0, 9999.0, 9999.0, 9999.0, 9999.0, 9999.0, 9999.0, 9999.0, 9999.0, 260.00994873046875, 260.6240234375, 260.9880065917969, 261.40667724609375, 261.62994384765625, 261.7189025878906, 261.80377197265625, 261.8781433105469, 261.8774108886719, 267.79840087890625, 269.55084228515625, 272.60272216796875, 272.9955139160156, 272.6336364746094, 272.8548583984375, 272.8892822265625, 272.97833251953125, 272.7765197753906, 273.3042297363281, 272.1927795410156, 272.020263671875, 271.842529296875, 272.1744384765625, 272.9337463378906, 273.3717041015625, 272.4518737792969, 271.249267578125, 269.888916015625, 269.4286193847656, 265.7194519042969, 264.1907043457031, 264.1309814453125, 264.11859130859375, 264.074951171875, 264.04864501953125, 264.00537109375, 263.955322265625, 263.9294738769531, 263.8849792480469, 263.8585205078125, 263.806640625, 263.773681640625, 263.73602294921875, 263.6946716308594, 263.6335144042969, 263.63055419921875, 263.578125, 263.5643005371094, 263.57080078125, 263.58642578125, 263.5853576660156, 263.6229553222656, 263.645263671875, 263.6637878417969, 263.67279052734375, 263.68792724609375, 263.6613464355469, 263.6747741699219, 263.7059326171875, 263.7218933105469, 263.74212646484375, 263.7670593261719, 263.7928161621094, 263.8420104980469, 263.968017578125, 264.0487060546875, 264.07647705078125, 264.0981140136719, 264.1214904785156, 264.18109130859375, 264.6694030761719, 267.1457824707031, 268.2117614746094, 269.4169921875, 269.02435302734375, 273.0074768066406, 270.6364440917969, 266.9844055175781, 265.4322204589844, 261.8853454589844, 261.80419921875, 261.8036193847656, 261.8909912109375, 261.52728271484375, 261.32171630859375, 260.7249450683594, 260.6622619628906, 260.6729431152344, 260.6752014160156, 260.6607666015625, 260.6490783691406, 260.65692138671875, 260.6629333496094, 260.6700439453125, 260.6661376953125, 260.6579284667969, 260.67364501953125, 260.66729736328125, 260.66937255859375, 260.67083740234375, 260.6531066894531, 260.6521301269531, 260.662841796875, 260.66827392578125, 260.679931640625, 260.6700439453125, 260.6573181152344, 260.6586608886719, 260.66241455078125, 260.6852111816406, 260.6617431640625, 260.6463623046875, 260.66107177734375, 260.66693115234375, 260.67364501953125, 260.66162109375, 260.6547546386719, 260.66156005859375, 260.6698303222656, 260.6690673828125, 260.6572570800781, 260.6523132324219, 260.6599426269531, 260.6617736816406, 260.6771545410156, 260.6554260253906, 260.65618896484375, 260.6681823730469, 260.6767578125, 260.67413330078125, 260.67083740234375, 260.6640930175781, 260.6693115234375, 260.6817626953125, 260.66473388671875, 260.6748352050781, 260.6749267578125, 260.6783752441406, 260.6727600097656, 260.66534423828125, 260.6666259765625, 260.6674499511719, 260.6827087402344, 260.6710510253906, 260.6747741699219, 260.6720275878906, 260.6745910644531, 260.67724609375, 260.67059326171875, 260.6761779785156, 260.68646240234375, 260.685302734375, 260.67724609375, 260.6667785644531, 260.6742858886719, 260.6782531738281, 260.6875305175781, 260.67486572265625, 260.6761474609375, 260.6733703613281, 260.6675720214844, 260.6600036621094, 260.6595458984375, 260.67242431640625, 260.67108154296875, 260.6717529296875, 260.673095703125, 260.6776428222656, 260.6883239746094, 260.6720275878906, 260.6647644042969, 260.66668701171875, 260.6664123535156, 260.6641540527344, 260.6633605957031, 260.65960693359375, 260.6631164550781, 260.6666259765625, 260.66796875, 260.67388916015625, 260.661376953125, 260.65374755859375, 260.6607971191406, 260.66265869140625, 260.6573791503906, 260.66644287109375, 260.6781311035156, 260.6612548828125, 260.65960693359375, 260.65802001953125, 260.6563415527344, 260.6698303222656, 260.6579284667969, 260.67523193359375, 260.6760559082031, 260.66455078125, 260.6668701171875, 260.67926025390625, 260.6700134277344, 260.6810302734375, 260.6783447265625, 260.67352294921875, 260.68212890625, 260.6777648925781, 260.6946716308594, 260.6537780761719, 260.67437744140625, 260.6636962890625)\n"
     ]
    }
   ],
   "source": [
    "# Read first line (starting from upper left corner)\n",
    "scanline = band.ReadRaster(\n",
    "    0, 0, band.XSize, 1, band.XSize, 1, gdal.GDT_Float32)\n",
    "print(\"ReadRaster returned: \", scanline)\n",
    "tuple_of_floats = struct.unpack('f' * band.XSize, scanline)\n",
    "print(\"Converted to floats:\", tuple_of_floats)"
   ]
  },
  {
   "cell_type": "code",
   "execution_count": 8,
   "metadata": {
    "collapsed": false,
    "tags": [
     "worksheet-0"
    ]
   },
   "outputs": [
    {
     "name": "stdout",
     "output_type": "stream",
     "text": [
      "(1, 451)\n",
      "451\n"
     ]
    }
   ],
   "source": [
    "# we can also read the first line using ReadAsArray directly\n",
    "array = band.ReadAsArray(0, 0, band.XSize, 1)\n",
    "print(array.shape)\n",
    "print(len(tuple_of_floats))\n",
    "# close the dataset\n",
    "dataset = None"
   ]
  },
  {
   "cell_type": "markdown",
   "metadata": {
    "collapsed": true,
    "tags": [
     "worksheet-0"
    ]
   },
   "source": [
    "## Rasterio"
   ]
  },
  {
   "cell_type": "code",
   "execution_count": 9,
   "metadata": {
    "collapsed": false,
    "tags": [
     "worksheet-0"
    ]
   },
   "outputs": [
    {
     "name": "stdout",
     "output_type": "stream",
     "text": [
      "GTiff\n",
      "451 351 (351, 451)\n",
      "Origin = ( 527799.5 , 5340350.5 )\n",
      "Pixel Size = ( 1.0 , -1.0 )\n",
      "LOCAL_CS[\"X-Y-Z\",UNIT[\"metre\",1,AUTHORITY[\"EPSG\",\"9001\"]]]\n",
      "(1.0, 1.0)\n",
      "[9999.0]\n",
      "['float32']\n",
      "(1, 351, 451)\n",
      "258.803 9999.0\n",
      "(351, 451)\n"
     ]
    },
    {
     "data": {
      "image/png": "[encoded data removed]",
      "text/plain": [
       "<matplotlib.figure.Figure at 0x7f40f8b52400>"
      ]
     },
     "metadata": {},
     "output_type": "display_data"
    },
    {
     "name": "stdout",
     "output_type": "stream",
     "text": [
      "258.803 293.878\n",
      "(1, 451)\n"
     ]
    }
   ],
   "source": [
    "import rasterio\n",
    "with rasterio.drivers():\n",
    "    with rasterio.open(os.path.join(\"dsm.tif\")) as src:\n",
    "        print(src.driver)\n",
    "        print(src.width, src.height, src.shape)\n",
    "        # affine property contains the geotransformation parameters\n",
    "        print('Origin = (', src.affine[2], ',', src.affine[5], ')')\n",
    "        print('Pixel Size = (', src.affine[0], ',', src.affine[4], ')')\n",
    "        print(src.crs_wkt) \n",
    "        print(src.res)\n",
    "        print(src.nodatavals)\n",
    "        print(src.dtypes)\n",
    "        # reading statistics from metadata not yet supported\n",
    "        # but we can calculate them using numpy.\n",
    "\n",
    "        # reading data\n",
    "        # can also be used with band indices, defaults to reading all bands\n",
    "        banddata = src.read() \n",
    "        print(banddata.shape)\n",
    "        print(banddata.min(), banddata.max())\n",
    "        # default is to read the data as is \n",
    "        banddata = src.read(indexes=1, masked=True) \n",
    "        print(banddata.shape)\n",
    "        plt.imshow(banddata)\n",
    "        plt.show()\n",
    "        print(banddata.min(), banddata.max())\n",
    "        # we can also just read a window of the data like we did above using the GDAL interface\n",
    "        banddata = src.read(indexes=1, masked=True, window=((0, 1), (0, src.width)))\n",
    "        print(banddata.shape)\n",
    "        # dataset is closed because we used a context manager\n"
   ]
  },
  {
   "cell_type": "markdown",
   "metadata": {
    "collapsed": true,
    "tags": [
     "worksheet-0"
    ]
   },
   "source": [
    "# Raster data format conversion\n",
    "\n",
    "convert from one datatype to another - gdaltranslate would do something similar\n",
    "in the command line\n",
    "\n",
    "## GDAL"
   ]
  },
  {
   "cell_type": "code",
   "execution_count": 11,
   "metadata": {
    "collapsed": false,
    "tags": [
     "worksheet-0"
    ]
   },
   "outputs": [
    {
     "name": "stdout",
     "output_type": "stream",
     "text": [
      "Driver AAIGrid supports CreateCopy() method.\n"
     ]
    }
   ],
   "source": [
    "src_filename = os.path.join(\"dsm.tif\")\n",
    "dst_filename = os.path.join(\"dsm.jpeg\")\n",
    "\n",
    "dname = \"AAIGrid\"  # ArcInfo (ESRI) ASCII Grid\n",
    "driver = gdal.GetDriverByName(dname)\n",
    "metadata = driver.GetMetadata()\n",
    "if gdal.DCAP_CREATE in metadata \\\n",
    "   and metadata[gdal.DCAP_CREATE] == 'YES':\n",
    "    print('Driver %s supports Create() method.' % dname)\n",
    "if gdal.DCAP_CREATECOPY in metadata \\\n",
    "   and metadata[gdal.DCAP_CREATECOPY] == 'YES':\n",
    "    print('Driver %s supports CreateCopy() method.' % dname)\n",
    "\n",
    "src_ds = gdal.Open(src_filename)\n",
    "dst_ds = driver.CreateCopy(dst_filename, src_ds, 0)\n",
    "\n",
    "# Once we're done, close properly the dataset\n",
    "dst_ds = None\n",
    "src_ds = None\n"
   ]
  },
  {
   "cell_type": "markdown",
   "metadata": {
    "collapsed": true,
    "tags": [
     "worksheet-0"
    ]
   },
   "source": [
    "## Rasterio\n",
    "\n",
    "makes the copying of data easier but does currently not allow access to driver\n",
    "metadata."
   ]
  },
  {
   "cell_type": "code",
   "execution_count": 12,
   "metadata": {
    "collapsed": false,
    "tags": [
     "worksheet-0"
    ]
   },
   "outputs": [],
   "source": [
    "with rasterio.drivers() as drivers:\n",
    "\n",
    "    rasterio.copy(\n",
    "        src_filename,\n",
    "        dst_filename,\n",
    "        driver='AAIGrid')\n"
   ]
  },
  {
   "cell_type": "markdown",
   "metadata": {
    "collapsed": true,
    "tags": [
     "worksheet-0"
    ]
   },
   "source": [
    "# Dataset creation\n",
    "\n",
    "We can create datasets from data in python, e.g. numpy arrays."
   ]
  },
  {
   "cell_type": "code",
   "execution_count": 13,
   "metadata": {
    "collapsed": false,
    "tags": [
     "worksheet-0"
    ]
   },
   "outputs": [
    {
     "name": "stdout",
     "output_type": "stream",
     "text": [
      "Pixel values:\n",
      " [[  0   0   0   0   0]\n",
      " [  0 120 120 120   0]\n",
      " [  0 120 255 120   0]\n",
      " [  0 120 120 120   0]\n",
      " [  0   0   0   0   0]]\n"
     ]
    }
   ],
   "source": [
    "# create buffer containing pixel values as numpy array\n",
    "raster = numpy.zeros((5, 5), dtype=numpy.uint8)\n",
    "raster[1:4, 1:4] = 120\n",
    "raster[2, 2] = 255\n",
    "print(\"Pixel values:\\n\", raster)\n",
    "\n",
    "# Set Spatial References System\n",
    "srs = osr.SpatialReference()\n",
    "srs.SetUTM(33, 1)\n",
    "srs.SetWellKnownGeogCS('WGS84')\n",
    "\n",
    "dst_filename = os.path.join(\"pyramid.tif\")\n",
    "driver = gdal.GetDriverByName(\"GTiff\")\n",
    "\n",
    "# Create empty raster dataset with 5x5 pixels (single band) of type 1-byte\n",
    "# unsigned int\n",
    "dst_ds = driver.Create(dst_filename, 5, 5, 1, gdal.GDT_Byte)\n",
    "\n",
    "# Set the geo-transformation (i.e. 6 parameters of 2D affine transformation)\n",
    "dst_ds.SetGeoTransform([527800.000, 10, 0, 5340000, 0, -10])\n",
    "dst_ds.SetProjection(srs.ExportToWkt())\n",
    "dst_ds.GetRasterBand(1).WriteArray(raster)\n",
    "# Once we're done, close properly the dataset\n",
    "dst_ds = None"
   ]
  },
  {
   "cell_type": "markdown",
   "metadata": {
    "collapsed": true,
    "tags": [
     "worksheet-0"
    ]
   },
   "source": [
    "Creation of a new dataset is not that different right now. One advantage is the\n",
    "context manager and that we do not need to know the gdal datatype"
   ]
  },
  {
   "cell_type": "code",
   "execution_count": 18,
   "metadata": {
    "collapsed": false,
    "tags": [
     "worksheet-0"
    ]
   },
   "outputs": [
    {
     "name": "stdout",
     "output_type": "stream",
     "text": [
      "[[  0   0   0   0   0]\n",
      " [  0 120 120 120   0]\n",
      " [  0 120 255 120   0]\n",
      " [  0 120 120 120   0]\n",
      " [  0   0   0   0   0]]\n"
     ]
    }
   ],
   "source": [
    "from rasterio import transform\n",
    "\n",
    "trs = transform.from_origin(527800.000, 5340000, 451, 351)\n",
    "\n",
    "with rasterio.drivers():\n",
    "    with rasterio.open(os.path.join(\"pyramid_rasterio.tif\"), \"w\",\n",
    "                       driver='GTiff', count=1, width=5, height=5, dtype=numpy.uint8,\n",
    "                       crs=srs.ExportToWkt(),\n",
    "                       transform=trs) as dst:\n",
    "        dst.write_band(1, raster)\n",
    "        print(dst.read(indexes=1))\n"
   ]
  },
  {
   "cell_type": "markdown",
   "metadata": {},
   "source": [
    "# Other rasterio features\n",
    "- reprojection\n",
    "- masking\n",
    "- shape rasterization\n",
    "\n",
    "See the [rasterio documentation](https://github.com/mapbox/rasterio/blob/master/docs/)"
   ]
  },
  {
   "cell_type": "markdown",
   "metadata": {},
   "source": [
    "# Exercise\n",
    "\n",
    "Read, inspect and plot a 10x10 pixel subset of the file *dsm_zco.tif* using either the GDAL API or rasterio.\n",
    "\n",
    "See the rasterio [window documentation](https://github.com/mapbox/rasterio/blob/master/docs/windowed-rw.rst)."
   ]
  }
 ],
 "metadata": {
  "kernelspec": {
   "display_name": "Python 3",
   "language": "python",
   "name": "python3"
  },
  "language_info": {
   "codemirror_mode": {
    "name": "ipython",
    "version": 3
   },
   "file_extension": ".py",
   "mimetype": "text/x-python",
   "name": "python",
   "nbconvert_exporter": "python",
   "pygments_lexer": "ipython3",
   "version": "3.5.1"
  }
 },
 "nbformat": 4,
 "nbformat_minor": 0
}
